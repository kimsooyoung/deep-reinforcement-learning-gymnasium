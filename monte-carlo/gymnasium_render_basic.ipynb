{
  "nbformat": 4,
  "nbformat_minor": 0,
  "metadata": {
    "colab": {
      "provenance": [],
      "authorship_tag": "ABX9TyNmpS+vAeU+VUXQoQOi8LVC",
      "include_colab_link": true
    },
    "kernelspec": {
      "name": "python3",
      "display_name": "Python 3"
    },
    "language_info": {
      "name": "python"
    }
  },
  "cells": [
    {
      "cell_type": "markdown",
      "metadata": {
        "id": "view-in-github",
        "colab_type": "text"
      },
      "source": [
        "<a href=\"https://colab.research.google.com/github/kimsooyoung/deep-reinforcement-learning-gymnasium/blob/main/monte-carlo/gymnasium_render_basic.ipynb\" target=\"_parent\"><img src=\"https://colab.research.google.com/assets/colab-badge.svg\" alt=\"Open In Colab\"/></a>"
      ]
    },
    {
      "cell_type": "code",
      "execution_count": null,
      "metadata": {
        "colab": {
          "base_uri": "https://localhost:8080/"
        },
        "id": "6GzwMnHU8OUD",
        "outputId": "f6ae95f3-3b77-4a38-c19a-99d571e5122a"
      },
      "outputs": [
        {
          "output_type": "stream",
          "name": "stdout",
          "text": [
            "Collecting renderlab\n",
            "  Downloading renderlab-0.1.20230421184216-py3-none-any.whl (4.0 kB)\n",
            "Requirement already satisfied: moviepy in /usr/local/lib/python3.10/dist-packages (from renderlab) (1.0.3)\n",
            "Requirement already satisfied: gymnasium in /usr/local/lib/python3.10/dist-packages (from renderlab) (0.29.1)\n",
            "Requirement already satisfied: numpy>=1.21.0 in /usr/local/lib/python3.10/dist-packages (from gymnasium->renderlab) (1.23.5)\n",
            "Requirement already satisfied: cloudpickle>=1.2.0 in /usr/local/lib/python3.10/dist-packages (from gymnasium->renderlab) (2.2.1)\n",
            "Requirement already satisfied: typing-extensions>=4.3.0 in /usr/local/lib/python3.10/dist-packages (from gymnasium->renderlab) (4.7.1)\n",
            "Requirement already satisfied: farama-notifications>=0.0.1 in /usr/local/lib/python3.10/dist-packages (from gymnasium->renderlab) (0.0.4)\n",
            "Requirement already satisfied: decorator<5.0,>=4.0.2 in /usr/local/lib/python3.10/dist-packages (from moviepy->renderlab) (4.4.2)\n",
            "Requirement already satisfied: tqdm<5.0,>=4.11.2 in /usr/local/lib/python3.10/dist-packages (from moviepy->renderlab) (4.66.1)\n",
            "Requirement already satisfied: requests<3.0,>=2.8.1 in /usr/local/lib/python3.10/dist-packages (from moviepy->renderlab) (2.31.0)\n",
            "Requirement already satisfied: proglog<=1.0.0 in /usr/local/lib/python3.10/dist-packages (from moviepy->renderlab) (0.1.10)\n",
            "Requirement already satisfied: imageio<3.0,>=2.5 in /usr/local/lib/python3.10/dist-packages (from moviepy->renderlab) (2.31.1)\n",
            "Requirement already satisfied: imageio-ffmpeg>=0.2.0 in /usr/local/lib/python3.10/dist-packages (from moviepy->renderlab) (0.4.8)\n",
            "Requirement already satisfied: pillow>=8.3.2 in /usr/local/lib/python3.10/dist-packages (from imageio<3.0,>=2.5->moviepy->renderlab) (9.4.0)\n",
            "Requirement already satisfied: charset-normalizer<4,>=2 in /usr/local/lib/python3.10/dist-packages (from requests<3.0,>=2.8.1->moviepy->renderlab) (3.2.0)\n",
            "Requirement already satisfied: idna<4,>=2.5 in /usr/local/lib/python3.10/dist-packages (from requests<3.0,>=2.8.1->moviepy->renderlab) (3.4)\n",
            "Requirement already satisfied: urllib3<3,>=1.21.1 in /usr/local/lib/python3.10/dist-packages (from requests<3.0,>=2.8.1->moviepy->renderlab) (2.0.4)\n",
            "Requirement already satisfied: certifi>=2017.4.17 in /usr/local/lib/python3.10/dist-packages (from requests<3.0,>=2.8.1->moviepy->renderlab) (2023.7.22)\n",
            "Installing collected packages: renderlab\n",
            "Successfully installed renderlab-0.1.20230421184216\n",
            "Requirement already satisfied: gymnasium in /usr/local/lib/python3.10/dist-packages (0.29.1)\n",
            "Requirement already satisfied: numpy>=1.21.0 in /usr/local/lib/python3.10/dist-packages (from gymnasium) (1.23.5)\n",
            "Requirement already satisfied: cloudpickle>=1.2.0 in /usr/local/lib/python3.10/dist-packages (from gymnasium) (2.2.1)\n",
            "Requirement already satisfied: typing-extensions>=4.3.0 in /usr/local/lib/python3.10/dist-packages (from gymnasium) (4.7.1)\n",
            "Requirement already satisfied: farama-notifications>=0.0.1 in /usr/local/lib/python3.10/dist-packages (from gymnasium) (0.0.4)\n"
          ]
        }
      ],
      "source": [
        "!apt-get install -y xvfb python-opengl ffmpeg > /dev/null 2>&1\n",
        "!pip install renderlab\n",
        "!pip install gymnasium"
      ]
    },
    {
      "cell_type": "code",
      "source": [
        "import gymnasium as gym\n",
        "import renderlab as rl\n",
        "\n",
        "env = gym.make(\"CartPole-v1\", render_mode = \"rgb_array\")\n",
        "env = rl.RenderFrame(env, \"./output\")\n",
        "\n",
        "observation, info = env.reset()\n",
        "\n",
        "while True:\n",
        "  action = env.action_space.sample()\n",
        "  observation, reward, terminated, truncated, info = env.step(action)\n",
        "\n",
        "  if terminated or truncated:\n",
        "    break\n",
        "\n",
        "env.play()"
      ],
      "metadata": {
        "colab": {
          "base_uri": "https://localhost:8080/",
          "height": 508
        },
        "id": "SnK2nN7H8PJA",
        "outputId": "2a75feda-7b76-446e-c3c9-c5a33a2c5146"
      },
      "execution_count": null,
      "outputs": [
        {
          "output_type": "stream",
          "name": "stdout",
          "text": [
            "Moviepy - Building video temp-{start}.mp4.\n",
            "Moviepy - Writing video temp-{start}.mp4\n",
            "\n"
          ]
        },
        {
          "output_type": "stream",
          "name": "stderr",
          "text": []
        },
        {
          "output_type": "stream",
          "name": "stdout",
          "text": [
            "Moviepy - Done !\n",
            "Moviepy - video ready temp-{start}.mp4\n"
          ]
        },
        {
          "output_type": "display_data",
          "data": {
            "text/plain": [
              "<IPython.core.display.Video object>"
            ],
            "text/html": [
              "<video controls  >\n",
              " <source src=\"data:video/mp4;base64,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\" type=\"video/mp4\">\n",
              " Your browser does not support the video tag.\n",
              " </video>"
            ]
          },
          "metadata": {}
        }
      ]
    },
    {
      "cell_type": "code",
      "source": [],
      "metadata": {
        "id": "XHmWCEpB8aIW"
      },
      "execution_count": null,
      "outputs": []
    }
  ]
}